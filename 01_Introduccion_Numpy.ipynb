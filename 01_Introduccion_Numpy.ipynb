{
 "cells": [
  {
   "cell_type": "markdown",
   "id": "6264a3fa",
   "metadata": {},
   "source": [
    "# Introduccion a numpy"
   ]
  },
  {
   "cell_type": "markdown",
   "id": "6cc3d549",
   "metadata": {},
   "source": [
    "[Numoy](https://numpy.org/doc/stable/) es una biblioteca fundamental para la computacion cientifica con python.\n",
    "\n",
    "*Proporciona arrays N_Dimensionales\n",
    "*Implementa funciones matematicas sofisticadas\n",
    "*Proporciona herramientas para integrar C/C++ y Fortran.\n",
    "*Proporciona mecanismos para facilitar la realizacion de tareas realacionados con algebra lineal o numeros aleatorios."
   ]
  },
  {
   "cell_type": "code",
   "execution_count": 48,
   "id": "ffccd6c9",
   "metadata": {},
   "outputs": [],
   "source": [
    "## imports"
   ]
  },
  {
   "cell_type": "code",
   "execution_count": 49,
   "id": "e9c4146d",
   "metadata": {},
   "outputs": [],
   "source": [
    "import numpy as np"
   ]
  },
  {
   "cell_type": "markdown",
   "id": "da15d660-e02d-4af4-affe-060fc2ec8777",
   "metadata": {
    "vscode": {
     "languageId": "plaintext"
    }
   },
   "source": [
    "### Arrays\n",
    "\n",
    "#### un **array** es una etsructura de datos que consiste en una coleccion de elementos (valores o variables), cada uno identificado por al menos un indice o clave.\n",
    "#### Un array se almacen de modo que la posicion de cada elemento se pueda calcular a partir de su tupla de indice mediante su formula matematica. \n",
    "#### El tipo ma simple de array es un array lineal, tambien llamado array unidimensional\n"
   ]
  },
  {
   "cell_type": "markdown",
   "id": "1a3d0333",
   "metadata": {},
   "source": [
    "En numpy:\n",
    "##### *Cada dimension se denomina **axis**\n",
    "##### *El numero de dimensiones se denomina **rank**\n",
    "##### *La lista de dimensiones con su correspondiente longitud se denomina **shape**\n",
    "##### *El numero toatl de elemntos (multiplicacion de la longitud se de las dimesiones) se denomina **size**."
   ]
  },
  {
   "cell_type": "code",
   "execution_count": 50,
   "id": "2277deea",
   "metadata": {},
   "outputs": [],
   "source": [
    "#Array cuyos valores son todos 0\n",
    "a = np.zeros((2, 4))"
   ]
  },
  {
   "cell_type": "code",
   "execution_count": 51,
   "id": "56d52fae",
   "metadata": {},
   "outputs": [
    {
     "data": {
      "text/plain": [
       "array([[0., 0., 0., 0.],\n",
       "       [0., 0., 0., 0.]])"
      ]
     },
     "execution_count": 51,
     "metadata": {},
     "output_type": "execute_result"
    }
   ],
   "source": [
    "a"
   ]
  },
  {
   "cell_type": "markdown",
   "id": "8de48bf5",
   "metadata": {},
   "source": [
    "**a** es un array:\n",
    "*Con dos **axis** , la primera de logitud 2 y el segundo de longitud 4\n",
    "*Con un **rank** igual a 2\n",
    "*Con un **shape** igual de 2,4\n",
    "*Con un **size** igual a 8"
   ]
  },
  {
   "cell_type": "code",
   "execution_count": 52,
   "id": "0457b011",
   "metadata": {},
   "outputs": [
    {
     "data": {
      "text/plain": [
       "(2, 4)"
      ]
     },
     "execution_count": 52,
     "metadata": {},
     "output_type": "execute_result"
    }
   ],
   "source": [
    "a.shape"
   ]
  },
  {
   "cell_type": "code",
   "execution_count": 53,
   "id": "344bcc8e",
   "metadata": {},
   "outputs": [
    {
     "data": {
      "text/plain": [
       "2"
      ]
     },
     "execution_count": 53,
     "metadata": {},
     "output_type": "execute_result"
    }
   ],
   "source": [
    "a.ndim"
   ]
  },
  {
   "cell_type": "code",
   "execution_count": 54,
   "id": "ba45942f",
   "metadata": {},
   "outputs": [
    {
     "data": {
      "text/plain": [
       "8"
      ]
     },
     "execution_count": 54,
     "metadata": {},
     "output_type": "execute_result"
    }
   ],
   "source": [
    "a.size"
   ]
  },
  {
   "cell_type": "markdown",
   "id": "71993c8d",
   "metadata": {},
   "source": [
    "### Creacion de arrays"
   ]
  },
  {
   "cell_type": "code",
   "execution_count": 55,
   "id": "32db8520",
   "metadata": {},
   "outputs": [
    {
     "data": {
      "text/plain": [
       "array([[[0., 0., 0., 0.],\n",
       "        [0., 0., 0., 0.],\n",
       "        [0., 0., 0., 0.]],\n",
       "\n",
       "       [[0., 0., 0., 0.],\n",
       "        [0., 0., 0., 0.],\n",
       "        [0., 0., 0., 0.]]])"
      ]
     },
     "execution_count": 55,
     "metadata": {},
     "output_type": "execute_result"
    }
   ],
   "source": [
    "# Array cuyos valores son todos 0\n",
    "np.zeros((2,3,4)) #dimension, filas, columnas"
   ]
  },
  {
   "cell_type": "code",
   "execution_count": 56,
   "id": "e65d9ca8",
   "metadata": {},
   "outputs": [
    {
     "data": {
      "text/plain": [
       "array([[[1., 1., 1., 1.],\n",
       "        [1., 1., 1., 1.],\n",
       "        [1., 1., 1., 1.],\n",
       "        [1., 1., 1., 1.]],\n",
       "\n",
       "       [[1., 1., 1., 1.],\n",
       "        [1., 1., 1., 1.],\n",
       "        [1., 1., 1., 1.],\n",
       "        [1., 1., 1., 1.]]])"
      ]
     },
     "execution_count": 56,
     "metadata": {},
     "output_type": "execute_result"
    }
   ],
   "source": [
    "# Array cuyos valores son todos 1\n",
    "np.ones((2, 4, 4))"
   ]
  },
  {
   "cell_type": "code",
   "execution_count": 57,
   "id": "5d769d9a",
   "metadata": {},
   "outputs": [
    {
     "data": {
      "text/plain": [
       "array([[[8, 8, 8, 8],\n",
       "        [8, 8, 8, 8],\n",
       "        [8, 8, 8, 8]],\n",
       "\n",
       "       [[8, 8, 8, 8],\n",
       "        [8, 8, 8, 8],\n",
       "        [8, 8, 8, 8]]])"
      ]
     },
     "execution_count": 57,
     "metadata": {},
     "output_type": "execute_result"
    }
   ],
   "source": [
    "# Array cuyos valores son todos el valor indicado como segundo parametro de la funcion\n",
    "np.full((2, 3, 4), 8)"
   ]
  },
  {
   "cell_type": "code",
   "execution_count": 58,
   "id": "117e46b9",
   "metadata": {},
   "outputs": [
    {
     "data": {
      "text/plain": [
       "array([[[0.48680568, 0.42086245, 0.64725818, 0.02529139],\n",
       "        [0.11118603, 0.46708294, 0.00311023, 0.08629316],\n",
       "        [0.5166445 , 0.53834545, 0.86563417, 0.63136816]],\n",
       "\n",
       "       [[0.56817023, 0.30609631, 0.14655156, 0.89131894],\n",
       "        [0.55141001, 0.45205152, 0.61744137, 0.86359982],\n",
       "        [0.43339592, 0.28744156, 0.15646609, 0.36715597]]])"
      ]
     },
     "execution_count": 58,
     "metadata": {},
     "output_type": "execute_result"
    }
   ],
   "source": [
    "#El resultado de np.empty no es predecible.\n",
    "#Inicializa los valores del array  con lo que hay \n",
    "np.empty((2, 3, 4))\n"
   ]
  },
  {
   "cell_type": "code",
   "execution_count": 59,
   "id": "5f55394a",
   "metadata": {},
   "outputs": [
    {
     "data": {
      "text/plain": [
       "array([[1, 2, 3],\n",
       "       [4, 5, 6]])"
      ]
     },
     "execution_count": 59,
     "metadata": {},
     "output_type": "execute_result"
    }
   ],
   "source": [
    "# Inicialozar un array con un array de python\n",
    "b = np.array(([1, 2, 3], [4, 5, 6]))\n",
    "b"
   ]
  },
  {
   "cell_type": "code",
   "execution_count": 60,
   "id": "c7894255",
   "metadata": {},
   "outputs": [
    {
     "data": {
      "text/plain": [
       "(2, 3)"
      ]
     },
     "execution_count": 60,
     "metadata": {},
     "output_type": "execute_result"
    }
   ],
   "source": [
    "b.shape"
   ]
  },
  {
   "cell_type": "code",
   "execution_count": 61,
   "id": "17b2410f",
   "metadata": {},
   "outputs": [
    {
     "name": "stdout",
     "output_type": "stream",
     "text": [
      "[0.         0.66666667 1.33333333 2.         2.66666667 3.33333333\n",
      " 4.         4.66666667 5.33333333 6.        ]\n"
     ]
    }
   ],
   "source": [
    "# Crear un array utilizando una funcion basada en eangos\n",
    "# (min, max, num de elementos)\n",
    "print(np.linspace(0, 6, 10))"
   ]
  },
  {
   "cell_type": "code",
   "execution_count": 62,
   "id": "d01e87ae",
   "metadata": {},
   "outputs": [
    {
     "data": {
      "text/plain": [
       "array([[[0.5727242 , 0.83546574, 0.23666417, 0.06395689],\n",
       "        [0.35990623, 0.39210812, 0.60538471, 0.27633119],\n",
       "        [0.80355757, 0.9492913 , 0.84814146, 0.93233864]],\n",
       "\n",
       "       [[0.5927213 , 0.81977921, 0.28920883, 0.86131213],\n",
       "        [0.3266354 , 0.9166231 , 0.98879904, 0.28072876],\n",
       "        [0.81428394, 0.54541621, 0.86019759, 0.65539933]]])"
      ]
     },
     "execution_count": 62,
     "metadata": {},
     "output_type": "execute_result"
    }
   ],
   "source": [
    "# Inicualizar un Array con numeros alatorios\n",
    "np.random.rand(2, 3, 4)"
   ]
  },
  {
   "cell_type": "code",
   "execution_count": 63,
   "id": "65076382",
   "metadata": {},
   "outputs": [
    {
     "data": {
      "text/plain": [
       "array([[ 0.65774339, -0.45905683, -1.34685576, -0.22505771],\n",
       "       [-0.57007661, -1.21219959, -0.41345443, -1.7177858 ]])"
      ]
     },
     "execution_count": 63,
     "metadata": {},
     "output_type": "execute_result"
    }
   ],
   "source": [
    "# Inicializar un array con valores aleatorios conforme a una dimesion \n",
    "np.random.randn(2, 4)"
   ]
  },
  {
   "cell_type": "code",
   "execution_count": 64,
   "id": "cf6d2216",
   "metadata": {},
   "outputs": [
    {
     "data": {
      "image/png": "[encoded data removed]",
      "text/plain": [
       "<Figure size 640x480 with 1 Axes>"
      ]
     },
     "metadata": {},
     "output_type": "display_data"
    }
   ],
   "source": [
    "%matplotlib inline\n",
    "import matplotlib.pyplot as plt\n",
    "\n",
    "C = np.random.randn(100000)\n",
    "\n",
    "plt.hist(C, bins=50)\n",
    "plt.show()"
   ]
  },
  {
   "cell_type": "code",
   "execution_count": 65,
   "id": "5b37d1ca",
   "metadata": {},
   "outputs": [
    {
     "data": {
      "text/plain": [
       "array([[ 0.,  2.,  4.,  6.,  8.],\n",
       "       [ 1.,  3.,  5.,  7.,  9.],\n",
       "       [ 2.,  4.,  6.,  8., 10.]])"
      ]
     },
     "execution_count": 65,
     "metadata": {},
     "output_type": "execute_result"
    }
   ],
   "source": [
    "# Inicializarun array utilizando una funcion personalizada\n",
    "\n",
    "def func(x, y):\n",
    "    return x + 2 * y\n",
    "np.fromfunction(func, (3, 5))"
   ]
  },
  {
   "cell_type": "markdown",
   "id": "49fe14b5",
   "metadata": {},
   "source": [
    "### Acceso a los elemntos de un Array\n",
    "### Array unidimensional"
   ]
  },
  {
   "cell_type": "code",
   "execution_count": 66,
   "id": "7e7122df",
   "metadata": {},
   "outputs": [
    {
     "name": "stdout",
     "output_type": "stream",
     "text": [
      "Shape:  (6,)\n",
      "Array uni:  [ 1  3  5  7  9 11]\n"
     ]
    }
   ],
   "source": [
    "# Crear un array unidimensional \n",
    "array_uni = np.array((1, 3, 5, 7, 9, 11))\n",
    "print(\"Shape: \", array_uni.shape)\n",
    "print(\"Array uni: \", array_uni)"
   ]
  },
  {
   "cell_type": "code",
   "execution_count": 67,
   "id": "4cbf68a7",
   "metadata": {},
   "outputs": [
    {
     "data": {
      "text/plain": [
       "np.int64(9)"
      ]
     },
     "execution_count": 67,
     "metadata": {},
     "output_type": "execute_result"
    }
   ],
   "source": [
    "# Acceder al quinto elemnto del Array\n",
    "array_uni[4]"
   ]
  },
  {
   "cell_type": "code",
   "execution_count": 68,
   "id": "55bcb4bf",
   "metadata": {},
   "outputs": [
    {
     "data": {
      "text/plain": [
       "array([5, 7])"
      ]
     },
     "execution_count": 68,
     "metadata": {},
     "output_type": "execute_result"
    }
   ],
   "source": [
    "# Acceder al tercer y cuarto elemento del Array\n",
    "array_uni[2: 4]"
   ]
  },
  {
   "cell_type": "code",
   "execution_count": 69,
   "id": "a5c8b872",
   "metadata": {},
   "outputs": [
    {
     "data": {
      "text/plain": [
       "array([ 1,  7, 11])"
      ]
     },
     "execution_count": 69,
     "metadata": {},
     "output_type": "execute_result"
    }
   ],
   "source": [
    "# Acceder al elemento 6, 3, y 5 del array\n",
    "array_uni[[0, 3, 5]]"
   ]
  },
  {
   "cell_type": "markdown",
   "id": "0b591c43",
   "metadata": {},
   "source": [
    "#### Array multidimensional"
   ]
  },
  {
   "cell_type": "code",
   "execution_count": 70,
   "id": "8a9b85e2",
   "metadata": {},
   "outputs": [
    {
     "name": "stdout",
     "output_type": "stream",
     "text": [
      "Shape:  (2, 4)\n",
      "Array_multi: \n",
      " [[1 2 3 4]\n",
      " [5 6 7 8]]\n"
     ]
    }
   ],
   "source": [
    "# Crear un array multidimensional\n",
    "array_multi = np.array([[1, 2, 3, 4], [5, 6, 7, 8]])\n",
    "print(\"Shape: \", array_multi.shape)\n",
    "print(\"Array_multi: \\n\", array_multi)"
   ]
  },
  {
   "cell_type": "code",
   "execution_count": 71,
   "id": "f96e17e6",
   "metadata": {},
   "outputs": [
    {
     "data": {
      "text/plain": [
       "np.int64(4)"
      ]
     },
     "execution_count": 71,
     "metadata": {},
     "output_type": "execute_result"
    }
   ],
   "source": [
    "# Acceder al cuato elemento dle array \n",
    "array_multi[0, 3]"
   ]
  },
  {
   "cell_type": "code",
   "execution_count": 72,
   "id": "1fdf2569",
   "metadata": {},
   "outputs": [
    {
     "data": {
      "text/plain": [
       "array([5, 6, 7, 8])"
      ]
     },
     "execution_count": 72,
     "metadata": {},
     "output_type": "execute_result"
    }
   ],
   "source": [
    "# Acceder a la segunda fila del array\n",
    "array_multi[1, :]"
   ]
  },
  {
   "cell_type": "code",
   "execution_count": 73,
   "id": "3a2bc805",
   "metadata": {},
   "outputs": [
    {
     "data": {
      "text/plain": [
       "array([3, 7])"
      ]
     },
     "execution_count": 73,
     "metadata": {},
     "output_type": "execute_result"
    }
   ],
   "source": [
    "# Acceder al tercer elemento de las dos primeras filas del array\n",
    "array_multi[0: 2, 2]"
   ]
  },
  {
   "cell_type": "markdown",
   "id": "d57877b9",
   "metadata": {},
   "source": [
    "#### Modificar un Array"
   ]
  },
  {
   "cell_type": "code",
   "execution_count": 74,
   "id": "9d7986df",
   "metadata": {},
   "outputs": [
    {
     "name": "stdout",
     "output_type": "stream",
     "text": [
      "Shape:  (28,)\n",
      "Array1: \n",
      " [ 0  1  2  3  4  5  6  7  8  9 10 11 12 13 14 15 16 17 18 19 20 21 22 23\n",
      " 24 25 26 27]\n"
     ]
    }
   ],
   "source": [
    "# Crear un array  unidimensional e inicalizarlo con rangos de elementos del 0 - 27\n",
    "array1 = np.arange(28)\n",
    "print(\"Shape: \", array1.shape)\n",
    "print(\"Array1: \\n\", array1)"
   ]
  },
  {
   "cell_type": "code",
   "execution_count": 75,
   "id": "227f10de",
   "metadata": {},
   "outputs": [
    {
     "name": "stdout",
     "output_type": "stream",
     "text": [
      "Shape:  (4, 7)\n",
      "Array1: \n",
      " [[ 0  1  2  3  4  5  6]\n",
      " [ 7  8  9 10 11 12 13]\n",
      " [14 15 16 17 18 19 20]\n",
      " [21 22 23 24 25 26 27]]\n"
     ]
    }
   ],
   "source": [
    "# Cambiar las dimensiones del array y sus longitudes\n",
    "array1.shape = (4, 7)\n",
    "print(\"Shape: \", array1.shape)\n",
    "print(\"Array1: \\n\", array1)"
   ]
  },
  {
   "cell_type": "code",
   "execution_count": 76,
   "id": "295f321c",
   "metadata": {},
   "outputs": [
    {
     "name": "stdout",
     "output_type": "stream",
     "text": [
      "Shape:  (4, 7)\n",
      "Array2: \n",
      " [[ 0  1  2  3  4  5  6]\n",
      " [ 7  8  9 10 11 12 13]\n",
      " [14 15 16 17 18 19 20]\n",
      " [21 22 23 24 25 26 27]]\n",
      "Array1: \n",
      " [[ 0  1  2  3  4  5  6]\n",
      " [ 7  8  9 10 11 12 13]\n",
      " [14 15 16 17 18 19 20]\n",
      " [21 22 23 24 25 26 27]]\n"
     ]
    }
   ],
   "source": [
    "# El ejemplo anterios devuelve un nuevo array que devuelve los mismos datos\n",
    "#Nota: Las modificaciones de un array modifican el otro array\n",
    "array2 = array1.reshape(4, 7)\n",
    "print(\"Shape: \", array2.shape)\n",
    "print(\"Array2: \\n\", array2)\n",
    "print(\"Array1: \\n\", array1)\n"
   ]
  },
  {
   "cell_type": "code",
   "execution_count": 77,
   "id": "85c05137",
   "metadata": {},
   "outputs": [
    {
     "name": "stdout",
     "output_type": "stream",
     "text": [
      "array1: \n",
      " [[ 0  1  2 20  4  5  6]\n",
      " [ 7  8  9 10 11 12 13]\n",
      " [14 15 16 17 18 19 20]\n",
      " [21 22 23 24 25 26 27]]\n",
      "array2: \n",
      " [[ 0  1  2 20  4  5  6]\n",
      " [ 7  8  9 10 11 12 13]\n",
      " [14 15 16 17 18 19 20]\n",
      " [21 22 23 24 25 26 27]]\n"
     ]
    }
   ],
   "source": [
    "# Modificar el array devuelto\n",
    "array2 [0, 3] = 20\n",
    "print(\"array1: \\n\", array1)\n",
    "print(\"array2: \\n\", array2)"
   ]
  },
  {
   "cell_type": "code",
   "execution_count": 78,
   "id": "8b472aab",
   "metadata": {},
   "outputs": [
    {
     "name": "stdout",
     "output_type": "stream",
     "text": [
      "array1:  [ 0  1  2 20  4  5  6  7  8  9 10 11 12 13 14 15 16 17 18 19 20 21 22 23\n",
      " 24 25 26 27]\n"
     ]
    }
   ],
   "source": [
    "# Regresar el array devolviendo un nuevo array de una sola dimensiones\n",
    "#Nota: El nuevo array apunta a los mismos datos\n",
    "print(\"array1: \", array1.ravel())"
   ]
  },
  {
   "cell_type": "markdown",
   "id": "bcfbdedb",
   "metadata": {},
   "source": [
    "#### Operaciones Aritmeticas con Arrays"
   ]
  },
  {
   "cell_type": "code",
   "execution_count": 79,
   "id": "12bbe65c-22e2-414a-89ec-5714a953e6f7",
   "metadata": {},
   "outputs": [
    {
     "name": "stdout",
     "output_type": "stream",
     "text": [
      "array 1: [ 2  4  6  8 10 12 14 16]\n",
      "array 2: [0 1 2 3 4 5 6 7]\n"
     ]
    }
   ],
   "source": [
    "#Creacion de dos arrayas Unibidimensionales\n",
    "array1 = np.arange(2, 18, 2)\n",
    "array2 = np.arange(8)\n",
    "print(\"array 1:\", array1)\n",
    "print(\"array 2:\", array2)"
   ]
  },
  {
   "cell_type": "code",
   "execution_count": 80,
   "id": "21a5273b-01be-4057-a96e-fce4a72fc986",
   "metadata": {},
   "outputs": [
    {
     "name": "stdout",
     "output_type": "stream",
     "text": [
      "[ 2  5  8 11 14 17 20 23]\n"
     ]
    }
   ],
   "source": [
    "print(array1 + array2)"
   ]
  },
  {
   "cell_type": "code",
   "execution_count": 81,
   "id": "71573452-37d1-4950-8235-fc3adc4d41c0",
   "metadata": {},
   "outputs": [
    {
     "name": "stdout",
     "output_type": "stream",
     "text": [
      "[2 3 4 5 6 7 8 9]\n"
     ]
    }
   ],
   "source": [
    "print(array1 - array2)"
   ]
  },
  {
   "cell_type": "markdown",
   "id": "3e5aebde-757c-4ddd-9b95-d924705e3752",
   "metadata": {},
   "source": [
    "## Broadcasting\n",
    "#### Si se aplican operaciones aritmeticas sobre arrays que no tengasn la misma forma **shape** Numpy aplica una propiedad que se denomina Broadcasting"
   ]
  },
  {
   "cell_type": "code",
   "execution_count": 82,
   "id": "5c7d1dbd-8b12-493d-9a0c-624052f67a87",
   "metadata": {},
   "outputs": [
    {
     "name": "stdout",
     "output_type": "stream",
     "text": [
      "Shape Array 1:  (5,)\n",
      "array 1:  [0 1 2 3 4]\n",
      "\n",
      "\n",
      "Shape Array 2:  (1,)\n",
      "array 2:  [0 1 2 3 4]\n"
     ]
    }
   ],
   "source": [
    "#Creacion de dos Arrays unidimensionales\n",
    "array1 = np.arange(5)\n",
    "array2 = np.array([3])\n",
    "print(\"Shape Array 1: \", array1.shape)\n",
    "print(\"array 1: \", array1)\n",
    "print(\"\\n\")\n",
    "print(\"Shape Array 2: \", array2.shape)\n",
    "print(\"array 2: \", array1)"
   ]
  },
  {
   "cell_type": "code",
   "execution_count": 83,
   "id": "83ced321-96e1-4deb-ae48-bc5461ff2164",
   "metadata": {},
   "outputs": [
    {
     "data": {
      "text/plain": [
       "array([3, 4, 5, 6, 7])"
      ]
     },
     "execution_count": 83,
     "metadata": {},
     "output_type": "execute_result"
    }
   ],
   "source": [
    "# Suma de ambos arreglos\n",
    "array1 + array2"
   ]
  },
  {
   "cell_type": "code",
   "execution_count": 84,
   "id": "263634b7-3473-4421-89fe-4dabe11f20c5",
   "metadata": {},
   "outputs": [
    {
     "name": "stdout",
     "output_type": "stream",
     "text": [
      "Shape Array 1:  (2, 3)\n",
      "array 1:  [[0 1 2]\n",
      " [3 4 5]]\n",
      "\n",
      "\n",
      "Shape Array 2:  (3,)\n",
      "array 2:  [[0 1 2]\n",
      " [3 4 5]]\n"
     ]
    }
   ],
   "source": [
    "# Crear un arreglo multidimensional y unideimnsional\n",
    "array1 = np.arange(6)\n",
    "array1.shape = (2, 3)\n",
    "\n",
    "array2 = np.arange(6, 18, 4)\n",
    "print(\"Shape Array 1: \", array1.shape)\n",
    "print(\"array 1: \", array1)\n",
    "print(\"\\n\")\n",
    "print(\"Shape Array 2: \", array2.shape)\n",
    "print(\"array 2: \", array1)\n"
   ]
  },
  {
   "cell_type": "code",
   "execution_count": 85,
   "id": "d08bd357-bb18-4a77-b440-ade7c3222f72",
   "metadata": {},
   "outputs": [
    {
     "data": {
      "text/plain": [
       "array([[ 6, 11, 16],\n",
       "       [ 9, 14, 19]])"
      ]
     },
     "execution_count": 85,
     "metadata": {},
     "output_type": "execute_result"
    }
   ],
   "source": [
    "# Suma de ambos arrays\n",
    "array1 + array2"
   ]
  },
  {
   "cell_type": "markdown",
   "id": "f23b4c54-9c22-4e77-909b-422fe9aa258b",
   "metadata": {},
   "source": [
    "#### Funciones estadisticas con Arrays"
   ]
  },
  {
   "cell_type": "code",
   "execution_count": 86,
   "id": "d64d1ea2-432f-4b5a-afbd-fdd71220ca7e",
   "metadata": {},
   "outputs": [
    {
     "name": "stdout",
     "output_type": "stream",
     "text": [
      "Array1:  [ 1  3  5  7  9 11 13 15 17 19]\n"
     ]
    }
   ],
   "source": [
    "# Crear un array unidimensional\n",
    "array1 = np.arange(1, 20, 2)\n",
    "print(\"Array1: \", array1)\n"
   ]
  },
  {
   "cell_type": "code",
   "execution_count": 87,
   "id": "22fa5692-0565-4cd7-85cf-7cc9a0077ae6",
   "metadata": {},
   "outputs": [
    {
     "data": {
      "text/plain": [
       "np.float64(10.0)"
      ]
     },
     "execution_count": 87,
     "metadata": {},
     "output_type": "execute_result"
    }
   ],
   "source": [
    "# Media de los elemetos del array\n",
    "array1.mean()"
   ]
  },
  {
   "cell_type": "code",
   "execution_count": 88,
   "id": "60757181-3fb6-4e42-a58f-db3cf7b826ed",
   "metadata": {},
   "outputs": [
    {
     "data": {
      "text/plain": [
       "np.int64(100)"
      ]
     },
     "execution_count": 88,
     "metadata": {},
     "output_type": "execute_result"
    }
   ],
   "source": [
    "# Suma de los elementos del array\n",
    "array1.sum()"
   ]
  },
  {
   "cell_type": "code",
   "execution_count": 89,
   "id": "8246478a-5c06-4749-84dc-76a0fb7989a5",
   "metadata": {},
   "outputs": [
    {
     "data": {
      "text/plain": [
       "array([1.        , 1.73205081, 2.23606798, 2.64575131, 3.        ,\n",
       "       3.31662479, 3.60555128, 3.87298335, 4.12310563, 4.35889894])"
      ]
     },
     "execution_count": 89,
     "metadata": {},
     "output_type": "execute_result"
    }
   ],
   "source": [
    "# Raiz cuadrada de los elementos del Array\n",
    "np.sqrt(array1)\n"
   ]
  },
  {
   "cell_type": "code",
   "execution_count": 90,
   "id": "78048b72-50e2-477e-9db2-8ba7a920e4c4",
   "metadata": {},
   "outputs": [
    {
     "data": {
      "text/plain": [
       "array([0.        , 1.09861229, 1.60943791, 1.94591015, 2.19722458,\n",
       "       2.39789527, 2.56494936, 2.7080502 , 2.83321334, 2.94443898])"
      ]
     },
     "execution_count": 90,
     "metadata": {},
     "output_type": "execute_result"
    }
   ],
   "source": [
    "# log de los elementos del array\n",
    "np.log(array1)"
   ]
  }
 ],
 "metadata": {
  "kernelspec": {
   "display_name": "venv (3.13.7)",
   "language": "python",
   "name": "python3"
  },
  "language_info": {
   "codemirror_mode": {
    "name": "ipython",
    "version": 3
   },
   "file_extension": ".py",
   "mimetype": "text/x-python",
   "name": "python",
   "nbconvert_exporter": "python",
   "pygments_lexer": "ipython3",
   "version": "3.13.7"
  }
 },
 "nbformat": 4,
 "nbformat_minor": 5
}
